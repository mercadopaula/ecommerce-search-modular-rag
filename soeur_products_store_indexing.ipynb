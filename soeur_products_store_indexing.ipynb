{
 "cells": [
  {
   "cell_type": "code",
   "execution_count": null,
   "id": "414fcb0b-407c-466a-9c23-0699ffa55b3d",
   "metadata": {},
   "outputs": [],
   "source": [
    "%%capture --no-stderr\n",
    "%pip install --quiet -U langgraph lxml chromadb langchain-chroma"
   ]
  },
  {
   "cell_type": "code",
   "execution_count": null,
   "id": "58f466f4-1b3d-4dcf-8f83-2bc559cacf21",
   "metadata": {},
   "outputs": [],
   "source": [
    "#Fix notebook asyncio bug\n",
    "import nest_asyncio\n",
    "nest_asyncio.apply()"
   ]
  },
  {
   "cell_type": "code",
   "execution_count": null,
   "id": "8ddc1318-3fce-4536-9c98-bee527f7deb9",
   "metadata": {},
   "outputs": [],
   "source": [
    "import os, getpass\n",
    "\n",
    "def _set_env(var: str):\n",
    "    # Check if the variable is set in the OS environment\n",
    "    env_value = os.environ.get(var)\n",
    "    if not env_value:\n",
    "        # If not set, prompt the user for input\n",
    "        env_value = getpass.getpass(f\"{var}: \")\n",
    "    \n",
    "    # Set the environment variable for the current process\n",
    "    os.environ[var] = env_value\n",
    "\n",
    "_set_env(\"LANGCHAIN_API_KEY\")\n",
    "os.environ[\"LANGCHAIN_TRACING_V2\"] = \"true\"\n",
    "os.environ[\"LANGCHAIN_PROJECT\"] = \"souer-product-store\"\n",
    "\n",
    "os.environ[\"USER_AGENT\"] = \"Mozilla/5.0 (Windows NT 10.0; Win64; x64) AppleWebKit/537.36 (KHTML, like Gecko) Chrome/111.0.0.0 Safari/537.36\""
   ]
  },
  {
   "cell_type": "markdown",
   "id": "1d358cd4-b484-414f-b25e-551e7dbed964",
   "metadata": {},
   "source": [
    "## Llama Client"
   ]
  },
  {
   "cell_type": "code",
   "execution_count": null,
   "id": "7211466d-9607-4f65-ba13-9340e0ea7183",
   "metadata": {},
   "outputs": [],
   "source": [
    "from langchain_ollama import ChatOllama\n",
    "# Initialize the Ollama LLM with the Llama 3 model\n",
    "llm = ChatOllama(model=\"llama3.2\", temperature=0, num_ctx = 24576)"
   ]
  },
  {
   "cell_type": "markdown",
   "id": "49e8596f-16cc-4dd1-bc6e-c9e7ec21369a",
   "metadata": {},
   "source": [
    "## Website scraper"
   ]
  },
  {
   "cell_type": "code",
   "execution_count": null,
   "id": "00881b85-a455-4d02-b15e-c36baea56853",
   "metadata": {},
   "outputs": [],
   "source": [
    "from langchain_community.document_loaders.sitemap import SitemapLoader\n",
    "from bs4 import BeautifulSoup\n",
    "import re\n",
    "\n",
    "\n",
    "soeur_products = []\n",
    "\n",
    "class Product:\n",
    "    def __init__(self, title, price_regular, description, fabrication):\n",
    "        self.title = title\n",
    "        self.price_regular = price_regular\n",
    "        self.description = description\n",
    "        self.fabrication = fabrication\n",
    "\n",
    "    def as_string(self):\n",
    "        return str(getattr(self, \"title\", \"null\") + \"|\" + getattr(self, \"price_regular\", \"null\") + \"|\" + getattr(self, \"description\", \"null\") + \"|\" + getattr(self, \"fabrication\", \"null\"))\n",
    "\n",
    "def sanitize_html(value: BeautifulSoup) -> str:\n",
    "    if value is None:\n",
    "        return \"null\"\n",
    "    if isinstance (value, str):\n",
    "        return value.strip().replace(\"|\", \" \").replace(\"\\u00A0\", \" \").replace(\"\\n\", \" \").replace(\"\\r\", \" \")\n",
    "    return value.get_text().strip().replace(\"|\", \" \").replace(\"\\u00A0\", \" \").replace(\"\\n\", \" \").replace(\"\\r\", \" \")\n",
    "\n",
    "def soeur_product_parser(content: BeautifulSoup) -> str:\n",
    "    result_title = content.find(\"div\", attrs={\"class\": \"product__title\"})\n",
    "    result_price_regular = content.find(\"span\", attrs={\"class\": \"price-item price-item--regular\"})\n",
    "    result_description = content.find(\"div\", attrs={\"class\": \"tab\", \"data-target\": \"description\"})\n",
    "    result_fabrication = content.find(\"div\", attrs={\"class\": \"tab\", \"data-target\": \"fabrication\"})\n",
    "    product = Product(title = sanitize_html(result_title), price_regular = sanitize_html(result_price_regular), description = sanitize_html(result_description), fabrication = sanitize_html(result_fabrication))\n",
    "    soeur_products.append(product)\n",
    "    return product.as_string()\n",
    "\n",
    "# Regex pattern\n",
    "pattern = r\"https?://[^/]+/en/products/[^/]+\"\n",
    "\n",
    "\n",
    "soeur_sitemap_loader = SitemapLoader(\n",
    "    web_path=\"https://www.soeur.fr/en/sitemap_products_1.xml?from=5151806455948&to=14995974619510\",\n",
    "    filter_urls=[pattern],\n",
    "    parsing_function=soeur_product_parser\n",
    ")"
   ]
  },
  {
   "cell_type": "markdown",
   "id": "5dbfe940-2178-485c-8dd1-c65963673b48",
   "metadata": {},
   "source": [
    "## Scrape the website -- Soeur"
   ]
  },
  {
   "cell_type": "code",
   "execution_count": null,
   "id": "eb90ced7-a44f-463a-ae03-306b43961bff",
   "metadata": {},
   "outputs": [],
   "source": [
    "documents_soeur = soeur_sitemap_loader.load()"
   ]
  },
  {
   "cell_type": "code",
   "execution_count": null,
   "id": "66414c32-d123-4912-a5a3-1dc491c76bd0",
   "metadata": {},
   "outputs": [],
   "source": [
    "print(documents_soeur[0])\n",
    "print(soeur_products[0].as_string())"
   ]
  },
  {
   "cell_type": "markdown",
   "id": "14f965eb-9eb7-4a82-8ebe-00844f27971d",
   "metadata": {},
   "source": [
    "## Storage setup"
   ]
  },
  {
   "cell_type": "markdown",
   "id": "45082263-f5be-49b6-9463-65fc7d075434",
   "metadata": {},
   "source": [
    "## Create the .csv file"
   ]
  },
  {
   "cell_type": "code",
   "execution_count": null,
   "id": "6d31e5e4-7199-48c8-8f86-9acf60965b80",
   "metadata": {},
   "outputs": [],
   "source": [
    "with open('products_souer.csv', \"a+\") as f:\n",
    "    data = f.read()\n",
    "\n",
    "with open('products_souer.csv', 'w') as f:\n",
    "    for i, p in enumerate(soeur_products):\n",
    "        f.write(str(i) +\"|\" + p.as_string() + \"\\n\")"
   ]
  },
  {
   "cell_type": "markdown",
   "id": "ae5f35e6-c0d6-4f04-8f49-e2e3ab514806",
   "metadata": {},
   "source": [
    "## Create the embeddings database with ChromaDB"
   ]
  },
  {
   "cell_type": "markdown",
   "id": "9bf2a7ee-142b-4378-a9bb-41b1c98e6e4b",
   "metadata": {},
   "source": [
    "source: https://python.langchain.com/docs/integrations/vectorstores/chroma/"
   ]
  },
  {
   "cell_type": "code",
   "execution_count": 78,
   "id": "ee0134fe-5086-4e87-a5fc-aa0851444082",
   "metadata": {},
   "outputs": [],
   "source": [
    "from langchain_chroma import Chroma\n",
    "from langchain_ollama import OllamaEmbeddings\n",
    "import chromadb\n",
    "\n",
    "# Custom class to fix the signature mismatch for the embeddings function\n",
    "class CustomOllamaEmbeddings(OllamaEmbeddings):\n",
    "\n",
    "    def __init__(self, model, *args, **kwargs):\n",
    "        super().__init__(model=model, *args, **kwargs)\n",
    "        \n",
    "    def _embed_documents(self, texts):\n",
    "        return super().embed_documents(texts)  # <--- use OllamaEmbeddings's embedding function\n",
    "\n",
    "    def __call__(self, input):\n",
    "        return self._embed_documents(input)    # <--- get the embeddings\n",
    "\n",
    "embeddings = CustomOllamaEmbeddings(model=\"mxbai-embed-large\")\n",
    "\n",
    "collection_name = \"soeur-products\"\n",
    "\n",
    "# Emptying the collection\n",
    "persistent_client = chromadb.PersistentClient(path=\"./chroma_products_souer\")\n",
    "persistent_client.delete_collection(name=collection_name)\n",
    "\n",
    "collection = persistent_client.get_or_create_collection(name=collection_name, embedding_function=embeddings)\n",
    "\n",
    "vector_store_from_client = Chroma(\n",
    "    client=persistent_client,\n",
    "    collection_name=collection_name,\n",
    "    embedding_function=embeddings\n",
    ")\n",
    "\n",
    "retriever = vector_store_from_client.as_retriever()"
   ]
  },
  {
   "cell_type": "markdown",
   "id": "1b40ee4b-2029-4f1f-ab8c-23fb969612d4",
   "metadata": {},
   "source": [
    "## Enriching documents' metadata"
   ]
  },
  {
   "cell_type": "code",
   "execution_count": 79,
   "id": "139304ac-0e5b-4984-bdef-3c93cd497294",
   "metadata": {},
   "outputs": [],
   "source": [
    "# Setting the locale to handle price numbers\n",
    "import locale\n",
    "locale.setlocale(locale.LC_ALL, 'de_DE')\n",
    "\n",
    "# Import the function to get the product category using a LLM\n",
    "from product_category import get_product_category\n",
    "\n",
    "for i, d in enumerate(documents_soeur):\n",
    "    d.metadata[\"key\"] = i\n",
    "    d.metadata[\"title\"] = soeur_products[i].title\n",
    "    d.metadata[\"price_regular\"] = float(locale.atof(soeur_products[i].price_regular.replace(\"€\",\"\").replace(',','')))\n",
    "    d.metadata[\"gender\"] = \"women\"\n",
    "    d.metadata[\"category\"] = get_product_category(d.page_content)"
   ]
  },
  {
   "cell_type": "markdown",
   "id": "51e20c9c-cfac-4fc6-bc73-7c4b58730a3d",
   "metadata": {},
   "source": [
    "### Add products to the vector store"
   ]
  },
  {
   "cell_type": "code",
   "execution_count": 80,
   "id": "66fcccfd-1edb-4a4f-81f5-b9953e3a4761",
   "metadata": {},
   "outputs": [],
   "source": [
    "from uuid import uuid4\n",
    "\n",
    "uuids = [str(uuid4()) for _ in range(len(documents_soeur))];\n",
    "\n",
    "vector_store_from_client.add_documents(ids=uuids, documents=documents_soeur);"
   ]
  },
  {
   "cell_type": "code",
   "execution_count": 81,
   "id": "3b5fe269-289d-4807-97ab-47c76e791dbf",
   "metadata": {},
   "outputs": [
    {
     "name": "stdout",
     "output_type": "stream",
     "text": [
      "[Document(id='344e5235-c8f3-42ab-97dd-de47dbb73635', metadata={'category': 'Trousers', 'changefreq': 'daily', 'gender': 'women', 'key': 70, 'lastmod': '2025-02-26T09:42:46+01:00', 'loc': 'https://www.soeur.fr/en/products/pantalon-felix-e23', 'price_regular': 145.0, 'source': 'https://www.soeur.fr/en/products/pantalon-felix-e23', 'title': 'felix trousers Black wool gabardine trousers    FELIX BLACK TROUSERS'}, page_content=\"felix trousers Black wool gabardine trousers    FELIX BLACK TROUSERS|145.00 €|Black woollen gabardine trousers - Straight and loose cut- Adjustable lower leg thanks to two buttons- Slant pockets on the front - Welt pockets on the back  The model is 1m80 (5'11) tall and wears a size 38.Reference: PAN1102FELIX24WNOI01|55% POLYESTER 45% NEW WOOL Made In Romania\"), Document(id='35a03e9f-ee03-442e-9dfe-0c04b7fe6878', metadata={'category': 'Trousers', 'changefreq': 'daily', 'gender': 'women', 'key': 37, 'lastmod': '2025-02-26T09:42:46+01:00', 'loc': 'https://www.soeur.fr/en/products/pantalon-harry-1', 'price_regular': 195.0, 'source': 'https://www.soeur.fr/en/products/pantalon-harry-1', 'title': 'harry trousers Black technical wool trousers    HARRY BLACK TROUSERS'}, page_content=\"harry trousers Black technical wool trousers    HARRY BLACK TROUSERS|195.00 €|HARRY is a must-have pair of trousers in the Soeur wardrobe, distinguished by its patch pockets at the front and back and its crease running along the leg. Its soft and comfortable wool canvas offers structure while being breathable.Black technical woollen trousers- Straight, slightly flared cut- Two patch pockets - front and back- Distinct pleat along the leg length  The model is 1m74(5'9) tall and wears a size 38.Reference: PAN0509HARRY21WNOI01|55% POLYESTER 45% NEW WOOL Made In Romania\"), Document(id='2b9b1fba-ea89-43a9-9066-329f92ebcae1', metadata={'category': 'Trousers', 'changefreq': 'daily', 'gender': 'women', 'key': 71, 'lastmod': '2025-02-26T09:42:46+01:00', 'loc': 'https://www.soeur.fr/en/products/pantalon-felix-e23-1', 'price_regular': 275.0, 'source': 'https://www.soeur.fr/en/products/pantalon-felix-e23-1', 'title': 'felix trousers Navy wool gabardine trousers    FELIX NAVY TROUSERS'}, page_content=\"felix trousers Navy wool gabardine trousers    FELIX NAVY TROUSERS|275.00 €|Charcoal navy woollen gabardine trousers - Pegged trousers- Straight and loose cut- Adjustable lower leg thanks to two buttons- Slant pockets on the front - Welt pockets on the back  The model is 1m78 (5'10) tall and wears a size 38.Reference: PAN1102FELIX22WNAV01|55% POLYESTER 45% NEW WOOL Made In Romania\"), Document(id='c0304bd4-afe2-45a3-b2f3-7b128557264e', metadata={'category': 'Trousers', 'changefreq': 'daily', 'gender': 'women', 'key': 13, 'lastmod': '2025-02-26T09:42:46+01:00', 'loc': 'https://www.soeur.fr/en/products/pantalon-harry-kaki-fonce-pan0509harry19wkak03', 'price_regular': 115.5, 'source': 'https://www.soeur.fr/en/products/pantalon-harry-kaki-fonce-pan0509harry19wkak03', 'title': 'harry trousers Khaki Wool Trousers    HARRY KHAKI TROUSERS'}, page_content=\"harry trousers Khaki Wool Trousers    HARRY KHAKI TROUSERS|115.50 €|HARRY is a must-have pair of trousers in the Soeur wardrobe, distinguished by its patch pockets at the front and back and its crease running along the leg. Its soft and comfortable wool canvas offers structure while being breathable.- Straight cut with a slight flare- Zip and snap button opening- Two patch pockets on the front and back- Sharp crease down the leg- Lightly textured cotton fabric The model is 1m78 (5'10) tall and wears a size 38.Reference: PAN0509HARRY19WKAK03|55% POLYESTER 43% WOOL 2% ELASTHANE Made In Romania\")]\n"
     ]
    }
   ],
   "source": [
    "retriever_output = retriever.invoke(\"pants black wool\")\n",
    "print(retriever_output)"
   ]
  },
  {
   "cell_type": "code",
   "execution_count": 94,
   "id": "8f1fe425-6166-43c1-9198-964812f27088",
   "metadata": {},
   "outputs": [
    {
     "data": {
      "text/plain": [
       "{'ids': [[]],\n",
       " 'embeddings': None,\n",
       " 'documents': [[]],\n",
       " 'uris': None,\n",
       " 'data': None,\n",
       " 'metadatas': [[]],\n",
       " 'distances': [[]],\n",
       " 'included': [<IncludeEnum.distances: 'distances'>,\n",
       "  <IncludeEnum.documents: 'documents'>,\n",
       "  <IncludeEnum.metadatas: 'metadatas'>]}"
      ]
     },
     "execution_count": 94,
     "metadata": {},
     "output_type": "execute_result"
    }
   ],
   "source": [
    "# Query using metadata filter\n",
    "\n",
    "product_query = \"slim fit black wool pants\"\n",
    "product_category = get_product_category(product_query)\n",
    "\n",
    "collection.query(\n",
    "    query_texts=product_query,\n",
    "    n_results=2,\n",
    "    where={\"$and\":[{\"gender\": \"women\"},{\"category\": product_category},{\"price_regular\": {\"$lt\":130}}]}\n",
    ")\n",
    "\n",
    "product_ids = [999999999]\n",
    "\n",
    "collection.query(\n",
    "    query_texts=product_query,\n",
    "    where={\"key\": { \"$in\": product_ids }}\n",
    ")"
   ]
  },
  {
   "cell_type": "code",
   "execution_count": null,
   "id": "16695c83-8a8f-4b0a-b925-898615416b89",
   "metadata": {},
   "outputs": [],
   "source": []
  }
 ],
 "metadata": {
  "kernelspec": {
   "display_name": "Python 3 (ipykernel)",
   "language": "python",
   "name": "python3"
  },
  "language_info": {
   "codemirror_mode": {
    "name": "ipython",
    "version": 3
   },
   "file_extension": ".py",
   "mimetype": "text/x-python",
   "name": "python",
   "nbconvert_exporter": "python",
   "pygments_lexer": "ipython3",
   "version": "3.12.4"
  }
 },
 "nbformat": 4,
 "nbformat_minor": 5
}
